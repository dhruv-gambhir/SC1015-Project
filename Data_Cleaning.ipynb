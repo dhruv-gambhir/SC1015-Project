{
  "cells": [
    {
      "cell_type": "markdown",
      "metadata": {
        "id": "view-in-github",
        "colab_type": "text"
      },
      "source": [
        "<a href=\"https://colab.research.google.com/github/dhruv-gambhir/SC1015-Project/blob/main/Data_Cleaning.ipynb\" target=\"_parent\"><img src=\"https://colab.research.google.com/assets/colab-badge.svg\" alt=\"Open In Colab\"/></a>"
      ]
    },
    {
      "cell_type": "code",
      "execution_count": 7,
      "metadata": {
        "colab": {
          "base_uri": "https://localhost:8080/"
        },
        "outputId": "3c9ab607-a322-4256-abbf-5d61593bd240",
        "id": "nnrCk2lXog6u"
      },
      "outputs": [
        {
          "output_type": "stream",
          "name": "stdout",
          "text": [
            "Mounted at /content/drive\n"
          ]
        }
      ],
      "source": [
        "from google.colab import drive\n",
        "drive.mount('/content/drive')"
      ]
    },
    {
      "cell_type": "code",
      "source": [
        "#Fucntion to count the occurence \n",
        "def word_quantity(data, reference, listing):\n",
        "    kw_number = dict()\n",
        "    for s in listing: kw_number[s] = 0\n",
        "    for listing_kw in data[reference].str.split('|'):        \n",
        "        if type(listing_kw) == float and pd.isnull(listing_kw): continue        \n",
        "        for s in [s for s in listing_kw if s in listing]: \n",
        "            if pd.notnull(s): kw_number[s] += 1\n",
        "    keyword_numbers = []\n",
        "    for k,v in kw_number.items():\n",
        "        keyword_numbers.append([k,v])\n",
        "    keyword_numbers.sort(key = lambda x:x[1], reverse = True)\n",
        "    return keyword_numbers, kw_number"
      ],
      "metadata": {
        "id": "fYht9M86yaYl"
      },
      "execution_count": 21,
      "outputs": []
    },
    {
      "cell_type": "code",
      "execution_count": 8,
      "metadata": {
        "id": "jb4TCAPUog6u"
      },
      "outputs": [],
      "source": [
        "%matplotlib inline\n",
        "import pandas as pd\n",
        "import json\n",
        "import seaborn as sns\n",
        "import matplotlib.pyplot as plt\n",
        "import matplotlib as fig\n",
        "import numpy as np\n",
        "import matplotlib as mpl\n",
        "import math, nltk, warnings\n",
        "from scipy import stats\n",
        "from ast import literal_eval\n",
        "from sklearn.feature_extraction.text import TfidfVectorizer, CountVectorizer\n",
        "from sklearn.metrics.pairwise import linear_kernel, cosine_similarity\n",
        "from nltk.stem.wordnet import WordNetLemmatizer\n",
        "from nltk.stem.snowball import SnowballStemmer\n",
        "from nltk.corpus import wordnet\n",
        "import warnings; warnings.simplefilter('ignore')"
      ]
    },
    {
      "cell_type": "code",
      "execution_count": 9,
      "metadata": {
        "id": "fHosDmZaog6u"
      },
      "outputs": [],
      "source": [
        "def upload_mov(trace):\n",
        "    data = pd.read_csv(trace)\n",
        "    data['release_date'] = pd.to_datetime(data['release_date']).apply(lambda x: x.date())\n",
        "    json_columns = ['genres', 'keywords', 'production_countries',\n",
        "                    'production_companies', 'spoken_languages']\n",
        "    for variables in json_columns:\n",
        "        data[variables] = data[variables].apply(json.loads)\n",
        "    return data"
      ]
    },
    {
      "cell_type": "code",
      "execution_count": 10,
      "metadata": {
        "id": "S-19aDwUog6u"
      },
      "outputs": [],
      "source": [
        "def upload_cred(trace):\n",
        "    data = pd.read_csv(trace)\n",
        "    json_columns = ['cast', 'crew']\n",
        "    for variables in json_columns:\n",
        "        data[variables] = data[variables].apply(json.loads)\n",
        "    return data"
      ]
    },
    {
      "cell_type": "code",
      "execution_count": 11,
      "metadata": {
        "colab": {
          "base_uri": "https://localhost:8080/"
        },
        "outputId": "afe2b736-c2c0-48a1-aefc-661590bb0b10",
        "id": "sW9m4Mk9og6v"
      },
      "outputs": [
        {
          "output_type": "stream",
          "name": "stdout",
          "text": [
            "Requirement already satisfied: fuzzywuzzy in /usr/local/lib/python3.7/dist-packages (0.18.0)\n"
          ]
        }
      ],
      "source": [
        "pip install fuzzywuzzy\n"
      ]
    },
    {
      "cell_type": "code",
      "execution_count": 49,
      "metadata": {
        "id": "LTKmc4g5og6v"
      },
      "outputs": [],
      "source": [
        "import pandas as pd\n",
        "import numpy as np\n",
        "import csv\n",
        "import matplotlib as mpl\n",
        "import matplotlib.pyplot as plt\n",
        "import seaborn as sns\n",
        "import math, nltk, warnings\n",
        "from nltk.corpus import wordnet\n",
        "from sklearn import linear_model\n",
        "from sklearn.neighbors import NearestNeighbors\n",
        "from fuzzywuzzy import fuzz\n",
        "from wordcloud import WordCloud, STOPWORDS\n",
        "plt.rcParams[\"patch.force_edgecolor\"] = True\n",
        "plt.style.use('fivethirtyeight')\n",
        "mpl.rc('patch', edgecolor = 'dimgray', linewidth=1)\n",
        "from IPython.core.interactiveshell import InteractiveShell\n",
        "InteractiveShell.ast_node_interactivity = \"last_expr\"\n",
        "pd.options.display.max_columns = 50\n",
        "%matplotlib inline\n",
        "warnings.filterwarnings('ignore')\n"
      ]
    },
    {
      "cell_type": "markdown",
      "metadata": {
        "id": "2d7E-1P1og6w"
      },
      "source": [
        "# Data Cleaning"
      ]
    },
    {
      "cell_type": "code",
      "execution_count": 13,
      "metadata": {
        "id": "be19W2vGog6x",
        "colab": {
          "base_uri": "https://localhost:8080/"
        },
        "outputId": "9fcb0c9d-6c0d-4ddd-c5e8-2d1d23791508"
      },
      "outputs": [
        {
          "output_type": "stream",
          "name": "stdout",
          "text": [
            "Collecting wordnet\n",
            "  Downloading wordnet-0.0.1b2.tar.gz (8.8 kB)\n",
            "Collecting colorama==0.3.9\n",
            "  Downloading colorama-0.3.9-py2.py3-none-any.whl (20 kB)\n",
            "Building wheels for collected packages: wordnet\n",
            "  Building wheel for wordnet (setup.py) ... \u001b[?25l\u001b[?25hdone\n",
            "  Created wheel for wordnet: filename=wordnet-0.0.1b2-py3-none-any.whl size=10521 sha256=d7398a56f6fb2ba08871fd52ce0348991db0ea2df45beff73f31cb64440296b1\n",
            "  Stored in directory: /root/.cache/pip/wheels/8c/6d/01/fbf1762cd6428569ea48474660f9cfe029307cd6c0f2abcdec\n",
            "Successfully built wordnet\n",
            "Installing collected packages: colorama, wordnet\n",
            "Successfully installed colorama-0.3.9 wordnet-0.0.1b2\n",
            "[nltk_data] Downloading package wordnet to /usr/share/nltk_data...\n",
            "[nltk_data]   Unzipping corpora/wordnet.zip.\n"
          ]
        },
        {
          "output_type": "execute_result",
          "data": {
            "text/plain": [
              "True"
            ]
          },
          "metadata": {},
          "execution_count": 13
        }
      ],
      "source": [
        "import nltk\n",
        "from nltk import *\n",
        "from nltk.corpus import wordnet\n",
        "!pip install wordnet\n",
        "from nltk.stem import PorterStemmer\n",
        "PS = nltk.stem.PorterStemmer()\n",
        "nltk.download('wordnet', '/usr/share/nltk_data')"
      ]
    },
    {
      "cell_type": "code",
      "execution_count": 14,
      "metadata": {
        "id": "EKby3VDOog6x"
      },
      "outputs": [],
      "source": [
        "df_clean = pd.read_csv(\"/content/drive/MyDrive/full-movie-dataset.csv\")"
      ]
    },
    {
      "cell_type": "code",
      "source": [
        "#We now group keywords with similar roots into one category\n",
        "\n",
        "def keywords_formatting(data, col = 'keywords'):\n",
        "    PS = nltk.stem.PorterStemmer()\n",
        "    roots  = dict()   \n",
        "    selected = dict()  #associations of keywords roots to a category\n",
        "    category = []\n",
        "    count = 0\n",
        "    for s in data[col]:\n",
        "        if pd.isnull(s): continue\n",
        "        for word in s.split('|'):\n",
        "            word = word.lower() ; r = PS.stem(word)\n",
        "            if r in roots:                \n",
        "                roots[r].add(word)\n",
        "            else:\n",
        "                roots[r] = {word}\n",
        "    \n",
        "    for s in roots.keys():\n",
        "        if len(roots[s]) > 1:  \n",
        "            min_length = 1000\n",
        "            for k in roots[s]:\n",
        "                if len(k) < min_length:\n",
        "                    cat = k ; min_length = len(k)            \n",
        "            category.append(cat)\n",
        "            selected[s] = cat\n",
        "        else:\n",
        "            category.append(list(roots[s])[0])\n",
        "            selected[s] = list(roots[s])[0]\n",
        "                   \n",
        "    print(\"Number of keywords in variable '{}': {}\".format(col,len(category)))\n",
        "    return category, roots, selected"
      ],
      "metadata": {
        "id": "ENOTVZ0Dog6x"
      },
      "execution_count": 15,
      "outputs": []
    },
    {
      "cell_type": "code",
      "execution_count": 16,
      "metadata": {
        "id": "LCU-XaoNog6x",
        "colab": {
          "base_uri": "https://localhost:8080/"
        },
        "outputId": "2231a2d5-e3f2-47e1-ba89-9b28a68843f4"
      },
      "outputs": [
        {
          "output_type": "stream",
          "name": "stdout",
          "text": [
            "Number of keywords in variable 'keywords': 9473\n"
          ]
        }
      ],
      "source": [
        "keywords, roots, selected = keywords_formatting(df_clean, col = 'keywords')"
      ]
    },
    {
      "cell_type": "code",
      "source": [
        "# Plot of similar keywords\n",
        "count = 0\n",
        "for s in roots.keys():\n",
        "    if len(roots[s]) > 1: \n",
        "        count += 1\n",
        "        if count < 15: print(count, roots[s], len(roots[s]))"
      ],
      "metadata": {
        "id": "Wv8cOalsog6x",
        "colab": {
          "base_uri": "https://localhost:8080/"
        },
        "outputId": "b198d502-a8b3-48df-a5ee-4b67b99ad938"
      },
      "execution_count": 17,
      "outputs": [
        {
          "output_type": "stream",
          "name": "stdout",
          "text": [
            "1 {'alien', 'alienation'} 2\n",
            "2 {'spy', 'spying'} 2\n",
            "3 {'vigilante', 'vigilantism'} 2\n",
            "4 {'terrorism', 'terror'} 2\n",
            "5 {'flooding', 'flood'} 2\n",
            "6 {'spiders', 'spider'} 2\n",
            "7 {'horses', 'horse'} 2\n",
            "8 {'musical', 'music'} 2\n",
            "9 {'animation', 'animal', 'anime'} 3\n",
            "10 {'compassion', 'compass'} 2\n",
            "11 {'train', 'training'} 2\n",
            "12 {'sailing', 'sail'} 2\n",
            "13 {'time travel', 'time traveler'} 2\n",
            "14 {'orc', 'orcs'} 2\n"
          ]
        }
      ]
    },
    {
      "cell_type": "code",
      "source": [
        "#Replace the keywords with same roots by one main keyword. \n",
        "\n",
        "def replace_keywords(df, association, roots = False):\n",
        "    df_new = df.copy(deep = True)\n",
        "    for index, row in df_new.iterrows():\n",
        "        kwords = row['keywords']\n",
        "        if pd.isnull(kwords): continue\n",
        "        new_keywords = []\n",
        "        for s in kwords.split('|'): \n",
        "            t = PS.stem(s) if roots else s\n",
        "            if t in association.keys():\n",
        "               new_keywords.append(association[t])\n",
        "            else:\n",
        "               new_keywords.append(s)       \n",
        "        df_new.at[index, 'keywords'] = '|'.join(map(str, new_keywords)) \n",
        "    return df_new"
      ],
      "metadata": {
        "id": "Lbwa9vh_og6x"
      },
      "execution_count": 18,
      "outputs": []
    },
    {
      "cell_type": "code",
      "execution_count": 19,
      "metadata": {
        "id": "HIwHfmXiog6x"
      },
      "outputs": [],
      "source": [
        "df_keywords_cleaned = replace_keywords(df_clean, selected, roots = True)"
      ]
    },
    {
      "cell_type": "code",
      "execution_count": 22,
      "metadata": {
        "id": "puxcFQLvog6x",
        "colab": {
          "base_uri": "https://localhost:8080/"
        },
        "outputId": "2309ab60-3d40-448c-8a08-ccc1261af6b5"
      },
      "outputs": [
        {
          "output_type": "execute_result",
          "data": {
            "text/plain": [
              "[['woman director', 324],\n",
              " ['independent film', 318],\n",
              " ['duringcreditsstinger', 307],\n",
              " ['based on novel', 197],\n",
              " ['murder', 189]]"
            ]
          },
          "metadata": {},
          "execution_count": 22
        }
      ],
      "source": [
        "keyword_numbers, keywords_count = word_quantity(df_clean,'keywords',keywords)\n",
        "keyword_numbers[:5]"
      ]
    },
    {
      "cell_type": "markdown",
      "metadata": {
        "id": "819pl7Uyog6y"
      },
      "source": [
        "Group by synonyms"
      ]
    },
    {
      "cell_type": "markdown",
      "source": [
        "We replace keywords occuring less than five times with a synonym"
      ],
      "metadata": {
        "id": "eAda97skog6y"
      }
    },
    {
      "cell_type": "code",
      "source": [
        "#we get synonymes of words from wordnet using synsets\n",
        "\n",
        "def get_synonymes(word):\n",
        "    synonyms = set()\n",
        "    for s in wordnet.synsets(word):\n",
        "        for w in s.lemma_names():\n",
        "           \n",
        "            index = s.name().find('.')+1\n",
        "            if s.name()[index] == 'n': synonyms.add(w.lower().replace('_',' '))\n",
        "    return synonyms"
      ],
      "metadata": {
        "id": "b9ljYsPnog6y"
      },
      "execution_count": 23,
      "outputs": []
    },
    {
      "cell_type": "code",
      "source": [
        "# Example of a list of synonyms given by NLTK\n",
        "\n",
        "word = 'fight'\n",
        "synonyms = get_synonymes(word)\n",
        "for s in synonyms:\n",
        "    print(' \"{:<20}\" in keywords list -> {} {}'.format(s, s in keywords,\n",
        "                                                keywords_count[s] if s in keywords else 0 ))"
      ],
      "metadata": {
        "id": "Q_vPCH_fog6y",
        "colab": {
          "base_uri": "https://localhost:8080/"
        },
        "outputId": "9f2ae3d0-be9b-466f-cf7c-23511f5e99da"
      },
      "execution_count": 24,
      "outputs": [
        {
          "output_type": "stream",
          "name": "stdout",
          "text": [
            " \"fighting            \" in keywords list -> False 0\n",
            " \"competitiveness     \" in keywords list -> False 0\n",
            " \"engagement          \" in keywords list -> False 0\n",
            " \"battle              \" in keywords list -> True 31\n",
            " \"fight               \" in keywords list -> True 47\n",
            " \"scrap               \" in keywords list -> False 0\n",
            " \"combat              \" in keywords list -> True 10\n",
            " \"conflict            \" in keywords list -> True 1\n"
          ]
        }
      ]
    },
    {
      "cell_type": "code",
      "source": [
        "# check if 'word' is a key of 'key_count' with a test on the number of occurences   \n",
        "\n",
        "def test_keyword(word, key_count, threshold):\n",
        "    return (False , True)[key_count.get(word, 0) >= threshold]"
      ],
      "metadata": {
        "id": "VTOR6rDUog6y"
      },
      "execution_count": 25,
      "outputs": []
    },
    {
      "cell_type": "code",
      "source": [
        "# Now we replace keywords with higher frequency words\n",
        "\n",
        "keyword_numbers.sort(key = lambda x:x[1], reverse = False)\n",
        "key_count = dict()\n",
        "for s in keyword_numbers:\n",
        "    key_count[s[0]] = s[1]\n",
        "\n",
        "replacement_word = dict()\n",
        "count = 0\n",
        "for index, [word, nb_apparitions] in enumerate(keyword_numbers):\n",
        "    if nb_apparitions > 5: continue  # only the keywords that appear less than 5 times\n",
        "    synonym = get_synonymes(word)\n",
        "    if len(synonym) == 0: continue     # case of the plurals\n",
        "    #_________________________________________________________________\n",
        "    list_word = [(s, key_count[s]) for s in synonym \n",
        "                  if test_keyword(s, key_count, key_count[word])]\n",
        "    list_word.sort(key = lambda x:(x[1],x[0]), reverse = True)    \n",
        "    if len(list_word) <= 1: continue       # no replacement\n",
        "    if word == list_word[0][0]: continue    # replacement by himself\n",
        "    count += 1\n",
        "    if  count < 8:\n",
        "        print('{:<12} -> {:<12} (init: {})'.format(word, list_word[0][0], list_word))    \n",
        "    replacement_word[word] = list_word[0][0]\n",
        "\n",
        "print(90*'_'+'\\n'+'The replacement concerns {}% of the keywords.'\n",
        "      .format(round(len(replacement_word)/len(keywords)*100,2)))"
      ],
      "metadata": {
        "id": "tsSYbueKog6y",
        "colab": {
          "base_uri": "https://localhost:8080/"
        },
        "outputId": "4b34d88b-33bc-4d7b-9692-7863391d99bf"
      },
      "execution_count": 26,
      "outputs": [
        {
          "output_type": "stream",
          "name": "stdout",
          "text": [
            "narcism      -> narcissism   (init: [('narcissism', 1), ('narcism', 1)])\n",
            "apparition   -> phantom      (init: [('phantom', 3), ('shadow', 1), ('apparition', 1)])\n",
            "sail         -> cruise       (init: [('cruise', 3), ('sail', 1)])\n",
            "macao        -> macau        (init: [('macau', 1), ('macao', 1)])\n",
            "universe     -> existence    (init: [('existence', 2), ('world', 1), ('universe', 1), ('creation', 1)])\n",
            "regent       -> trustee      (init: [('trustee', 1), ('regent', 1)])\n",
            "human        -> human being  (init: [('human being', 5), ('human', 1)])\n",
            "__________________________________________________________________________________________\n",
            "The replacement concerns 6.09% of the keywords.\n"
          ]
        }
      ]
    },
    {
      "cell_type": "code",
      "source": [
        "print('Keywords that appear both in keys and values:'.upper()+'\\n'+45*'-')\n",
        "count = 0\n",
        "for s in replacement_word.values():\n",
        "    if s in replacement_word.keys():\n",
        "        count += 1\n",
        "        if count < 10: print('{:<20} -> {:<20}'.format(s, replacement_word[s]))\n",
        "\n",
        "for key, value in replacement_word.items():\n",
        "    if value in replacement_word.keys():\n",
        "        replacement_word[key] = replacement_word[value] "
      ],
      "metadata": {
        "id": "xATXxO-Kog6y",
        "colab": {
          "base_uri": "https://localhost:8080/"
        },
        "outputId": "fdf7ea9c-af8f-4792-fedc-128a5be0a697"
      },
      "execution_count": 27,
      "outputs": [
        {
          "output_type": "stream",
          "name": "stdout",
          "text": [
            "KEYWORDS THAT APPEAR BOTH IN KEYS AND VALUES:\n",
            "---------------------------------------------\n",
            "failure              -> loser               \n",
            "leech                -> parasite            \n",
            "office               -> power               \n",
            "office               -> power               \n",
            "carnival             -> circus              \n",
            "pit                  -> hell                \n",
            "drawing              -> lottery             \n",
            "twist                -> crook               \n",
            "pest                 -> plague              \n"
          ]
        }
      ]
    },
    {
      "cell_type": "code",
      "source": [
        "# replacement of keyword varieties by the main keyword\n",
        "\n",
        "df_keywords_synonyms = replace_keywords(df_keywords_cleaned, replacement_word, roots = False)   \n",
        "kw, keywords_roots, keywords_select = keywords_formatting(df_keywords_synonyms, col = 'keywords')"
      ],
      "metadata": {
        "id": "5p5NpBJ8og6y",
        "colab": {
          "base_uri": "https://localhost:8080/"
        },
        "outputId": "0aa73475-5ac7-41a8-942c-fa4941c65d18"
      },
      "execution_count": 28,
      "outputs": [
        {
          "output_type": "stream",
          "name": "stdout",
          "text": [
            "Number of keywords in variable 'keywords': 8899\n"
          ]
        }
      ]
    },
    {
      "cell_type": "code",
      "execution_count": 30,
      "metadata": {
        "id": "AZnW9l-Jog6y",
        "colab": {
          "base_uri": "https://localhost:8080/"
        },
        "outputId": "b4d488cb-790c-4e96-d8a3-a74d49c07467"
      },
      "outputs": [
        {
          "output_type": "execute_result",
          "data": {
            "text/plain": [
              "[['woman director', 324],\n",
              " ['independent film', 318],\n",
              " ['duringcreditsstinger', 307],\n",
              " ['based on novel', 197],\n",
              " ['murder', 197]]"
            ]
          },
          "metadata": {},
          "execution_count": 30
        }
      ],
      "source": [
        "new_keyword_numbers, keywords_count = word_quantity(df_keywords_synonyms,\n",
        "                                                    'keywords',keywords)\n",
        "new_keyword_numbers[:5]"
      ]
    },
    {
      "cell_type": "code",
      "execution_count": 31,
      "metadata": {
        "id": "3DPkKOEBog6z"
      },
      "outputs": [],
      "source": [
        "def delete_low_fq(df, keyword_numbers):\n",
        "    df_new = df.copy(deep = True)\n",
        "    key_count = dict()\n",
        "    for s in keyword_numbers: \n",
        "        key_count[s[0]] = s[1]    \n",
        "    for index, row in df_new.iterrows():\n",
        "        kwords = row['keywords']\n",
        "        if pd.isnull(kwords): continue\n",
        "        new_keywords = []\n",
        "        for s in kwords.split('|'): \n",
        "            if key_count.get(s, 4) > 3: new_keywords.append(s)\n",
        "        df_new.at[index, 'keywords'] = '|'.join(map(str, new_keywords))\n",
        "    return df_new"
      ]
    },
    {
      "cell_type": "code",
      "execution_count": 32,
      "metadata": {
        "id": "94iIiiGnog6z",
        "colab": {
          "base_uri": "https://localhost:8080/"
        },
        "outputId": "e89cbeca-7629-496f-b2a2-e59dfb8f9986"
      },
      "outputs": [
        {
          "output_type": "stream",
          "name": "stdout",
          "text": [
            "Number of keywords in variable 'keywords': 2109\n"
          ]
        }
      ],
      "source": [
        "# Creation of a dataframe where keywords of low frequencies are suppressed\n",
        "\n",
        "df_keywords_occurence = delete_low_fq(df_keywords_synonyms, new_keyword_numbers)\n",
        "keywords, roots, selected = keywords_formatting(df_keywords_occurence, col = 'keywords') "
      ]
    },
    {
      "cell_type": "code",
      "execution_count": 33,
      "metadata": {
        "id": "rWLQwYWyog6z",
        "colab": {
          "base_uri": "https://localhost:8080/"
        },
        "outputId": "cd557327-3916-43b7-99f3-93cf01395a01"
      },
      "outputs": [
        {
          "output_type": "execute_result",
          "data": {
            "text/plain": [
              "[['woman director', 324],\n",
              " ['independent film', 318],\n",
              " ['duringcreditsstinger', 307],\n",
              " ['based on novel', 197],\n",
              " ['murder', 197]]"
            ]
          },
          "metadata": {},
          "execution_count": 33
        }
      ],
      "source": [
        "keywords.remove('')\n",
        "new_keyword_numbers, keywords_count = word_quantity(df_keywords_occurence,\n",
        "                                                    'keywords',keywords)\n",
        "new_keyword_numbers[:5]"
      ]
    },
    {
      "cell_type": "code",
      "source": [
        "# Graph of keyword occurences before and after cleaning\n",
        "\n",
        "font = {'family' : 'ariel', 'weight' : 'normal', 'size'   : 14}\n",
        "mpl.rc('font', **font)\n",
        "\n",
        "keyword_numbers.sort(key = lambda x:x[1], reverse = True)\n",
        "\n",
        "y_axis = [i[1] for i in keyword_numbers]\n",
        "x_axis = [k for k,i in enumerate(keyword_numbers)]\n",
        "\n",
        "new_y_axis = [i[1] for i in new_keyword_numbers]\n",
        "new_x_axis = [k for k,i in enumerate(new_keyword_numbers)]\n",
        "\n",
        "f, ax = plt.subplots(figsize=(9, 5))\n",
        "ax.plot(x_axis, y_axis, 'r-', label='before cleaning')\n",
        "ax.plot(new_x_axis, new_y_axis, 'b-', label='after cleaning')\n",
        "\n",
        "# Now add the legend with some customizations.\n",
        "legend = ax.legend(loc='upper right', shadow=True)\n",
        "frame = legend.get_frame()\n",
        "frame.set_facecolor('0.90')\n",
        "for label in legend.get_texts():\n",
        "    label.set_fontsize('medium')\n",
        "            \n",
        "plt.ylim((0,25))\n",
        "plt.axhline(y=3.5, linewidth=2, color = 'k')\n",
        "plt.xlabel(\"keywords index\", family='ariel', fontsize = 14)\n",
        "plt.ylabel(\"Nb. of occurences\", family='ariel', fontsize = 14)\n",
        "plt.text(3500, 4.5, 'threshold for keyword delation', fontsize = 14)\n",
        "plt.show()"
      ],
      "metadata": {
        "id": "R0KWq8PRog6z",
        "colab": {
          "base_uri": "https://localhost:8080/",
          "height": 361
        },
        "outputId": "34e91a83-538d-4e25-c7e8-b360eedd6033"
      },
      "execution_count": 34,
      "outputs": [
        {
          "output_type": "stream",
          "name": "stderr",
          "text": [
            "findfont: Font family ['ariel'] not found. Falling back to DejaVu Sans.\n"
          ]
        },
        {
          "output_type": "display_data",
          "data": {
            "text/plain": [
              "<Figure size 648x360 with 1 Axes>"
            ],
            "image/png": "[encoded data removed]"
          },
          "metadata": {
            "needs_background": "light"
          }
        }
      ]
    },
    {
      "cell_type": "code",
      "execution_count": 35,
      "metadata": {
        "id": "kxunQBOvog6z"
      },
      "outputs": [],
      "source": [
        "df_var_cleaned = df_keywords_occurence.copy(deep = True)"
      ]
    },
    {
      "cell_type": "markdown",
      "metadata": {
        "id": "0lpS9Asmog6z"
      },
      "source": [
        "missing values"
      ]
    },
    {
      "cell_type": "markdown",
      "source": [
        "We examine the number of missong values in the data and then use different methods to fill in "
      ],
      "metadata": {
        "id": "BY2MHfClog6z"
      }
    },
    {
      "cell_type": "code",
      "source": [
        "df_filling = df_var_cleaned.copy(deep=True)\n",
        "missing_year_info = df_filling[df_filling['title_year'].isnull()][[\n",
        "            'director_name','actor_1_name', 'actor_2_name', 'actor_3_name']]\n",
        "missing_year_info[:10]"
      ],
      "metadata": {
        "id": "V047Cztxog6z",
        "colab": {
          "base_uri": "https://localhost:8080/",
          "height": 80
        },
        "outputId": "8abde882-c4a1-4b29-e14a-76f333c8a01e"
      },
      "execution_count": 36,
      "outputs": [
        {
          "output_type": "execute_result",
          "data": {
            "text/plain": [
              "     director_name actor_1_name actor_2_name actor_3_name\n",
              "4553           NaN          NaN          NaN          NaN"
            ],
            "text/html": [
              "\n",
              "  <div id=\"df-a00bf0e5-6a06-4602-a9bb-8e45c08afa3c\">\n",
              "    <div class=\"colab-df-container\">\n",
              "      <div>\n",
              "<style scoped>\n",
              "    .dataframe tbody tr th:only-of-type {\n",
              "        vertical-align: middle;\n",
              "    }\n",
              "\n",
              "    .dataframe tbody tr th {\n",
              "        vertical-align: top;\n",
              "    }\n",
              "\n",
              "    .dataframe thead th {\n",
              "        text-align: right;\n",
              "    }\n",
              "</style>\n",
              "<table border=\"1\" class=\"dataframe\">\n",
              "  <thead>\n",
              "    <tr style=\"text-align: right;\">\n",
              "      <th></th>\n",
              "      <th>director_name</th>\n",
              "      <th>actor_1_name</th>\n",
              "      <th>actor_2_name</th>\n",
              "      <th>actor_3_name</th>\n",
              "    </tr>\n",
              "  </thead>\n",
              "  <tbody>\n",
              "    <tr>\n",
              "      <th>4553</th>\n",
              "      <td>NaN</td>\n",
              "      <td>NaN</td>\n",
              "      <td>NaN</td>\n",
              "      <td>NaN</td>\n",
              "    </tr>\n",
              "  </tbody>\n",
              "</table>\n",
              "</div>\n",
              "      <button class=\"colab-df-convert\" onclick=\"convertToInteractive('df-a00bf0e5-6a06-4602-a9bb-8e45c08afa3c')\"\n",
              "              title=\"Convert this dataframe to an interactive table.\"\n",
              "              style=\"display:none;\">\n",
              "        \n",
              "  <svg xmlns=\"http://www.w3.org/2000/svg\" height=\"24px\"viewBox=\"0 0 24 24\"\n",
              "       width=\"24px\">\n",
              "    <path d=\"M0 0h24v24H0V0z\" fill=\"none\"/>\n",
              "    <path d=\"M18.56 5.44l.94 2.06.94-2.06 2.06-.94-2.06-.94-.94-2.06-.94 2.06-2.06.94zm-11 1L8.5 8.5l.94-2.06 2.06-.94-2.06-.94L8.5 2.5l-.94 2.06-2.06.94zm10 10l.94 2.06.94-2.06 2.06-.94-2.06-.94-.94-2.06-.94 2.06-2.06.94z\"/><path d=\"M17.41 7.96l-1.37-1.37c-.4-.4-.92-.59-1.43-.59-.52 0-1.04.2-1.43.59L10.3 9.45l-7.72 7.72c-.78.78-.78 2.05 0 2.83L4 21.41c.39.39.9.59 1.41.59.51 0 1.02-.2 1.41-.59l7.78-7.78 2.81-2.81c.8-.78.8-2.07 0-2.86zM5.41 20L4 18.59l7.72-7.72 1.47 1.35L5.41 20z\"/>\n",
              "  </svg>\n",
              "      </button>\n",
              "      \n",
              "  <style>\n",
              "    .colab-df-container {\n",
              "      display:flex;\n",
              "      flex-wrap:wrap;\n",
              "      gap: 12px;\n",
              "    }\n",
              "\n",
              "    .colab-df-convert {\n",
              "      background-color: #E8F0FE;\n",
              "      border: none;\n",
              "      border-radius: 50%;\n",
              "      cursor: pointer;\n",
              "      display: none;\n",
              "      fill: #1967D2;\n",
              "      height: 32px;\n",
              "      padding: 0 0 0 0;\n",
              "      width: 32px;\n",
              "    }\n",
              "\n",
              "    .colab-df-convert:hover {\n",
              "      background-color: #E2EBFA;\n",
              "      box-shadow: 0px 1px 2px rgba(60, 64, 67, 0.3), 0px 1px 3px 1px rgba(60, 64, 67, 0.15);\n",
              "      fill: #174EA6;\n",
              "    }\n",
              "\n",
              "    [theme=dark] .colab-df-convert {\n",
              "      background-color: #3B4455;\n",
              "      fill: #D2E3FC;\n",
              "    }\n",
              "\n",
              "    [theme=dark] .colab-df-convert:hover {\n",
              "      background-color: #434B5C;\n",
              "      box-shadow: 0px 1px 3px 1px rgba(0, 0, 0, 0.15);\n",
              "      filter: drop-shadow(0px 1px 2px rgba(0, 0, 0, 0.3));\n",
              "      fill: #FFFFFF;\n",
              "    }\n",
              "  </style>\n",
              "\n",
              "      <script>\n",
              "        const buttonEl =\n",
              "          document.querySelector('#df-a00bf0e5-6a06-4602-a9bb-8e45c08afa3c button.colab-df-convert');\n",
              "        buttonEl.style.display =\n",
              "          google.colab.kernel.accessAllowed ? 'block' : 'none';\n",
              "\n",
              "        async function convertToInteractive(key) {\n",
              "          const element = document.querySelector('#df-a00bf0e5-6a06-4602-a9bb-8e45c08afa3c');\n",
              "          const dataTable =\n",
              "            await google.colab.kernel.invokeFunction('convertToInteractive',\n",
              "                                                     [key], {});\n",
              "          if (!dataTable) return;\n",
              "\n",
              "          const docLinkHtml = 'Like what you see? Visit the ' +\n",
              "            '<a target=\"_blank\" href=https://colab.research.google.com/notebooks/data_table.ipynb>data table notebook</a>'\n",
              "            + ' to learn more about interactive tables.';\n",
              "          element.innerHTML = '';\n",
              "          dataTable['output_type'] = 'display_data';\n",
              "          await google.colab.output.renderOutput(dataTable, element);\n",
              "          const docLink = document.createElement('div');\n",
              "          docLink.innerHTML = docLinkHtml;\n",
              "          element.appendChild(docLink);\n",
              "        }\n",
              "      </script>\n",
              "    </div>\n",
              "  </div>\n",
              "  "
            ]
          },
          "metadata": {},
          "execution_count": 36
        }
      ]
    },
    {
      "cell_type": "code",
      "source": [
        "df_filling.iloc[4553]"
      ],
      "metadata": {
        "colab": {
          "base_uri": "https://localhost:8080/"
        },
        "id": "g3AIRxHoYovm",
        "outputId": "6ef07e6b-a67a-4c0b-f4f2-45d9c867a22c"
      },
      "execution_count": 37,
      "outputs": [
        {
          "output_type": "execute_result",
          "data": {
            "text/plain": [
              "Unnamed: 0                                                           4553\n",
              "budget                                                                  0\n",
              "genres                                                                NaN\n",
              "homepage                                                              NaN\n",
              "id                                                                 380097\n",
              "keywords                                                              NaN\n",
              "language                                                              NaN\n",
              "original_title                                 America Is Still the Place\n",
              "overview                1971 post civil rights San Francisco seemed li...\n",
              "popularity                                                            0.0\n",
              "production_companies                                                   []\n",
              "production_countries                                                   []\n",
              "release_date                                                          NaN\n",
              "revenue                                                                 0\n",
              "duration                                                              0.0\n",
              "spoken_languages                                                       []\n",
              "status                                                           Released\n",
              "tagline                                                               NaN\n",
              "title                                          America Is Still the Place\n",
              "vote_average                                                          0.0\n",
              "num_voted_users                                                         0\n",
              "title_year                                                            NaN\n",
              "country                                                               NaN\n",
              "director_name                                                         NaN\n",
              "actor_1_name                                                          NaN\n",
              "actor_2_name                                                          NaN\n",
              "actor_3_name                                                          NaN\n",
              "Name: 4553, dtype: object"
            ]
          },
          "metadata": {},
          "execution_count": 37
        }
      ]
    },
    {
      "cell_type": "code",
      "source": [
        "def fill_year(df):\n",
        "    col = ['director_name', 'actor_1_name', 'actor_2_name', 'actor_3_name']\n",
        "    usual_year = [0 for _ in range(4)]\n",
        "    var        = [0 for _ in range(4)]\n",
        "    \n",
        "    for i in range(4):\n",
        "        usual_year[i] = df.groupby(col[i])['title_year'].mean()\n",
        "    \n",
        "    actor_year = dict()\n",
        "    for i in range(4):\n",
        "        for s in usual_year[i].index:\n",
        "            if s in actor_year.keys():\n",
        "                if pd.notnull(usual_year[i][s]) and pd.notnull(actor_year[s]):\n",
        "                    actor_year[s] = (actor_year[s] + usual_year[i][s])/2\n",
        "                elif pd.isnull(actor_year[s]):\n",
        "                    actor_year[s] = usual_year[i][s]\n",
        "            else:\n",
        "                actor_year[s] = usual_year[i][s]\n",
        "        \n",
        "   \n",
        "    missing_year_info = df[df['title_year'].isnull()]\n",
        "   \n",
        "    count_replaced = 0\n",
        "    for index, row in missing_year_info.iterrows():\n",
        "        value = [ np.NaN for _ in range(4)]\n",
        "        count = 0 ; sum_year = 0\n",
        "        for i in range(4):            \n",
        "            var[i] = df.loc[index][col[i]]\n",
        "            if pd.notnull(var[i]): value[i] = actor_year[var[i]]\n",
        "            if pd.notnull(value[i]): count += 1 ; sum_year += actor_year[var[i]]\n",
        "        if count != 0: sum_year = sum_year / count \n",
        "\n",
        "        if int(sum_year) > 0:\n",
        "            count_replaced += 1\n",
        "            df.set_value(index, 'title_year', int(sum_year))\n",
        "            if count_replaced < 10: \n",
        "              print(\"{:<45} -> {:<20}\".format(df.loc[index]['movie_title'],int(sum_year)))\n",
        "    return "
      ],
      "metadata": {
        "id": "yJ5kq-UQog6z"
      },
      "execution_count": 38,
      "outputs": []
    },
    {
      "cell_type": "code",
      "execution_count": 39,
      "metadata": {
        "id": "6jWS1NkUog60"
      },
      "outputs": [],
      "source": [
        "fill_year(df_filling)"
      ]
    },
    {
      "cell_type": "code",
      "source": [
        "# Extracting keywords from the title\n",
        "\n",
        "count = 0\n",
        "for index, row in df_filling[df_filling['keywords'].isnull()].iterrows():\n",
        "    count += 1\n",
        "    word_list = row['title'].strip().split()\n",
        "    new_keyword = []\n",
        "    for s in word_list:\n",
        "        synonym = get_synonymes(s)\n",
        "        for t in list(synonym):\n",
        "            if t in keywords: \n",
        "                new_keyword.append(t)                \n",
        "    if new_keyword and count < 15: \n",
        "        print('{:<50} -> {:<30}'.format(row['title'], str(new_keyword)))\n",
        "    if new_keyword:\n",
        "        df_filling.at[index, 'keywords'] = '|'.join(map(str, new_keyword)) "
      ],
      "metadata": {
        "id": "IRF_SHrhog60",
        "colab": {
          "base_uri": "https://localhost:8080/"
        },
        "outputId": "24ba8199-cb05-4306-b41c-e4e139ef9448"
      },
      "execution_count": 42,
      "outputs": [
        {
          "output_type": "stream",
          "name": "stdout",
          "text": [
            "The Mummy: Tomb of the Dragon Emperor              -> ['grave', 'dragon', 'emperor']\n",
            "The Lovers                                         -> ['lover']                     \n",
            "Sex and the City 2                                 -> ['sexuality', 'sex', 'city']  \n",
            "The Nutcracker: The Untold Story                   -> ['history', 'narration']      \n",
            "Legends of Oz: Dorothy's Return                    -> ['legend', 'return']          \n",
            "Dragon Blade                                       -> ['dragon', 'sword']           \n",
            "Bullet to the Head                                 -> ['chief']                     \n",
            "Beloved                                            -> ['love']                      \n",
            "Hereafter                                          -> ['afterlife', 'future']       \n",
            "Man of the House                                   -> ['human being', 'family', 'house']\n"
          ]
        }
      ]
    },
    {
      "cell_type": "markdown",
      "source": [
        "Imputing from regression"
      ],
      "metadata": {
        "id": "LDyAj2lVog60"
      }
    },
    {
      "cell_type": "code",
      "source": [
        "corrmat = df_keywords_occurence.dropna(how='any').corr()\n",
        "cols = corrmat.nlargest(9, 'num_voted_users')['num_voted_users'].index\n",
        "cm = np.corrcoef(df_keywords_occurence[cols].dropna(how='any').values.T)\n",
        "sns.set(font_scale=1.25)\n",
        "hm = sns.heatmap(cm, cbar=True, annot=True, square=True,\n",
        "                 fmt='.2f', annot_kws={'size': 10}, \n",
        "                 yticklabels=cols.values, xticklabels=cols.values)\n",
        "plt.show()"
      ],
      "metadata": {
        "id": "SdMQWQH9og60",
        "colab": {
          "base_uri": "https://localhost:8080/",
          "height": 384
        },
        "outputId": "9c6605c6-a6e7-4ee1-a8ac-1958680c95bf"
      },
      "execution_count": 43,
      "outputs": [
        {
          "output_type": "display_data",
          "data": {
            "text/plain": [
              "<Figure size 432x288 with 2 Axes>"
            ],
            "image/png": "[encoded data removed]"
          },
          "metadata": {}
        }
      ]
    },
    {
      "cell_type": "markdown",
      "source": [
        "We will fill variables like gross, num_critic_for_reviews, num_voted_users , and num_user_for_reviews using regression as they have some degree of correleation."
      ],
      "metadata": {
        "id": "ICpUBJWfog60"
      }
    },
    {
      "cell_type": "code",
      "execution_count": 44,
      "metadata": {
        "id": "1EoWHy_Tog60",
        "colab": {
          "base_uri": "https://localhost:8080/",
          "height": 439
        },
        "outputId": "92e430e5-9bfb-4cc0-aaed-17c52fd6c5bf"
      },
      "outputs": [
        {
          "output_type": "display_data",
          "data": {
            "text/plain": [
              "<Figure size 432x432 with 6 Axes>"
            ],
            "image/png": "[encoded data removed]"
          },
          "metadata": {}
        }
      ],
      "source": [
        "# showing the relation between revenue and num_voted_users\n",
        "\n",
        "sns.set(font_scale=1.25)\n",
        "cols = ['revenue', 'num_voted_users']\n",
        "sns.pairplot(df_filling.dropna(how='any')[cols],diag_kind='kde', size = 3)\n",
        "plt.show();"
      ]
    },
    {
      "cell_type": "code",
      "execution_count": 45,
      "metadata": {
        "id": "IfLMX62Log60"
      },
      "outputs": [],
      "source": [
        "def linear_reg(df, col_to_predict, ref_col):\n",
        "    regression = linear_model.LinearRegression()\n",
        "    test = df[[col_to_predict,ref_col]].dropna(how='any', axis = 0)\n",
        "    X = np.array(test[ref_col])\n",
        "    Y = np.array(test[col_to_predict])\n",
        "    X = X.reshape(len(X),1)\n",
        "    Y = Y.reshape(len(Y),1)\n",
        "    regression.fit(X, Y)\n",
        "    \n",
        "    test = df[df[col_to_predict].isnull() & df[ref_col].notnull()]\n",
        "    for index, row in test.iterrows():\n",
        "        value = float(regression.predict(row[ref_col]))\n",
        "        df.set_value(index, col_to_predict, value)"
      ]
    },
    {
      "cell_type": "code",
      "execution_count": 46,
      "metadata": {
        "id": "LoJYFC5iog60"
      },
      "outputs": [],
      "source": [
        "linear_reg(df_filling, 'revenue', 'num_voted_users')"
      ]
    },
    {
      "cell_type": "code",
      "execution_count": 47,
      "metadata": {
        "id": "cxNpgneSog60",
        "colab": {
          "base_uri": "https://localhost:8080/",
          "height": 886
        },
        "outputId": "ee048643-3ec4-4803-b9e1-175531832fbc"
      },
      "outputs": [
        {
          "output_type": "execute_result",
          "data": {
            "text/plain": [
              "             column_name  missing_count  filling_factor\n",
              "0               homepage           3091       35.644389\n",
              "1                tagline            844       82.427649\n",
              "2               keywords            186       96.127420\n",
              "3                country            174       96.377264\n",
              "4               language             98       97.959609\n",
              "5           actor_3_name             93       98.063710\n",
              "6           actor_2_name             63       98.688320\n",
              "7           actor_1_name             53       98.896523\n",
              "8          director_name             30       99.375390\n",
              "9                 genres             28       99.417031\n",
              "10              overview              3       99.937539\n",
              "11              duration              2       99.958359\n",
              "12            title_year              1       99.979180\n",
              "13          release_date              1       99.979180\n",
              "14                 title              0      100.000000\n",
              "15       num_voted_users              0      100.000000\n",
              "16          vote_average              0      100.000000\n",
              "17            Unnamed: 0              0      100.000000\n",
              "18      spoken_languages              0      100.000000\n",
              "19  production_countries              0      100.000000\n",
              "20  production_companies              0      100.000000\n",
              "21            popularity              0      100.000000\n",
              "22        original_title              0      100.000000\n",
              "23                    id              0      100.000000\n",
              "24                budget              0      100.000000\n",
              "25                status              0      100.000000\n",
              "26               revenue              0      100.000000"
            ],
            "text/html": [
              "\n",
              "  <div id=\"df-702e7f76-769f-4650-84e1-0e7d5d45583e\">\n",
              "    <div class=\"colab-df-container\">\n",
              "      <div>\n",
              "<style scoped>\n",
              "    .dataframe tbody tr th:only-of-type {\n",
              "        vertical-align: middle;\n",
              "    }\n",
              "\n",
              "    .dataframe tbody tr th {\n",
              "        vertical-align: top;\n",
              "    }\n",
              "\n",
              "    .dataframe thead th {\n",
              "        text-align: right;\n",
              "    }\n",
              "</style>\n",
              "<table border=\"1\" class=\"dataframe\">\n",
              "  <thead>\n",
              "    <tr style=\"text-align: right;\">\n",
              "      <th></th>\n",
              "      <th>column_name</th>\n",
              "      <th>missing_count</th>\n",
              "      <th>filling_factor</th>\n",
              "    </tr>\n",
              "  </thead>\n",
              "  <tbody>\n",
              "    <tr>\n",
              "      <th>0</th>\n",
              "      <td>homepage</td>\n",
              "      <td>3091</td>\n",
              "      <td>35.644389</td>\n",
              "    </tr>\n",
              "    <tr>\n",
              "      <th>1</th>\n",
              "      <td>tagline</td>\n",
              "      <td>844</td>\n",
              "      <td>82.427649</td>\n",
              "    </tr>\n",
              "    <tr>\n",
              "      <th>2</th>\n",
              "      <td>keywords</td>\n",
              "      <td>186</td>\n",
              "      <td>96.127420</td>\n",
              "    </tr>\n",
              "    <tr>\n",
              "      <th>3</th>\n",
              "      <td>country</td>\n",
              "      <td>174</td>\n",
              "      <td>96.377264</td>\n",
              "    </tr>\n",
              "    <tr>\n",
              "      <th>4</th>\n",
              "      <td>language</td>\n",
              "      <td>98</td>\n",
              "      <td>97.959609</td>\n",
              "    </tr>\n",
              "    <tr>\n",
              "      <th>5</th>\n",
              "      <td>actor_3_name</td>\n",
              "      <td>93</td>\n",
              "      <td>98.063710</td>\n",
              "    </tr>\n",
              "    <tr>\n",
              "      <th>6</th>\n",
              "      <td>actor_2_name</td>\n",
              "      <td>63</td>\n",
              "      <td>98.688320</td>\n",
              "    </tr>\n",
              "    <tr>\n",
              "      <th>7</th>\n",
              "      <td>actor_1_name</td>\n",
              "      <td>53</td>\n",
              "      <td>98.896523</td>\n",
              "    </tr>\n",
              "    <tr>\n",
              "      <th>8</th>\n",
              "      <td>director_name</td>\n",
              "      <td>30</td>\n",
              "      <td>99.375390</td>\n",
              "    </tr>\n",
              "    <tr>\n",
              "      <th>9</th>\n",
              "      <td>genres</td>\n",
              "      <td>28</td>\n",
              "      <td>99.417031</td>\n",
              "    </tr>\n",
              "    <tr>\n",
              "      <th>10</th>\n",
              "      <td>overview</td>\n",
              "      <td>3</td>\n",
              "      <td>99.937539</td>\n",
              "    </tr>\n",
              "    <tr>\n",
              "      <th>11</th>\n",
              "      <td>duration</td>\n",
              "      <td>2</td>\n",
              "      <td>99.958359</td>\n",
              "    </tr>\n",
              "    <tr>\n",
              "      <th>12</th>\n",
              "      <td>title_year</td>\n",
              "      <td>1</td>\n",
              "      <td>99.979180</td>\n",
              "    </tr>\n",
              "    <tr>\n",
              "      <th>13</th>\n",
              "      <td>release_date</td>\n",
              "      <td>1</td>\n",
              "      <td>99.979180</td>\n",
              "    </tr>\n",
              "    <tr>\n",
              "      <th>14</th>\n",
              "      <td>title</td>\n",
              "      <td>0</td>\n",
              "      <td>100.000000</td>\n",
              "    </tr>\n",
              "    <tr>\n",
              "      <th>15</th>\n",
              "      <td>num_voted_users</td>\n",
              "      <td>0</td>\n",
              "      <td>100.000000</td>\n",
              "    </tr>\n",
              "    <tr>\n",
              "      <th>16</th>\n",
              "      <td>vote_average</td>\n",
              "      <td>0</td>\n",
              "      <td>100.000000</td>\n",
              "    </tr>\n",
              "    <tr>\n",
              "      <th>17</th>\n",
              "      <td>Unnamed: 0</td>\n",
              "      <td>0</td>\n",
              "      <td>100.000000</td>\n",
              "    </tr>\n",
              "    <tr>\n",
              "      <th>18</th>\n",
              "      <td>spoken_languages</td>\n",
              "      <td>0</td>\n",
              "      <td>100.000000</td>\n",
              "    </tr>\n",
              "    <tr>\n",
              "      <th>19</th>\n",
              "      <td>production_countries</td>\n",
              "      <td>0</td>\n",
              "      <td>100.000000</td>\n",
              "    </tr>\n",
              "    <tr>\n",
              "      <th>20</th>\n",
              "      <td>production_companies</td>\n",
              "      <td>0</td>\n",
              "      <td>100.000000</td>\n",
              "    </tr>\n",
              "    <tr>\n",
              "      <th>21</th>\n",
              "      <td>popularity</td>\n",
              "      <td>0</td>\n",
              "      <td>100.000000</td>\n",
              "    </tr>\n",
              "    <tr>\n",
              "      <th>22</th>\n",
              "      <td>original_title</td>\n",
              "      <td>0</td>\n",
              "      <td>100.000000</td>\n",
              "    </tr>\n",
              "    <tr>\n",
              "      <th>23</th>\n",
              "      <td>id</td>\n",
              "      <td>0</td>\n",
              "      <td>100.000000</td>\n",
              "    </tr>\n",
              "    <tr>\n",
              "      <th>24</th>\n",
              "      <td>budget</td>\n",
              "      <td>0</td>\n",
              "      <td>100.000000</td>\n",
              "    </tr>\n",
              "    <tr>\n",
              "      <th>25</th>\n",
              "      <td>status</td>\n",
              "      <td>0</td>\n",
              "      <td>100.000000</td>\n",
              "    </tr>\n",
              "    <tr>\n",
              "      <th>26</th>\n",
              "      <td>revenue</td>\n",
              "      <td>0</td>\n",
              "      <td>100.000000</td>\n",
              "    </tr>\n",
              "  </tbody>\n",
              "</table>\n",
              "</div>\n",
              "      <button class=\"colab-df-convert\" onclick=\"convertToInteractive('df-702e7f76-769f-4650-84e1-0e7d5d45583e')\"\n",
              "              title=\"Convert this dataframe to an interactive table.\"\n",
              "              style=\"display:none;\">\n",
              "        \n",
              "  <svg xmlns=\"http://www.w3.org/2000/svg\" height=\"24px\"viewBox=\"0 0 24 24\"\n",
              "       width=\"24px\">\n",
              "    <path d=\"M0 0h24v24H0V0z\" fill=\"none\"/>\n",
              "    <path d=\"M18.56 5.44l.94 2.06.94-2.06 2.06-.94-2.06-.94-.94-2.06-.94 2.06-2.06.94zm-11 1L8.5 8.5l.94-2.06 2.06-.94-2.06-.94L8.5 2.5l-.94 2.06-2.06.94zm10 10l.94 2.06.94-2.06 2.06-.94-2.06-.94-.94-2.06-.94 2.06-2.06.94z\"/><path d=\"M17.41 7.96l-1.37-1.37c-.4-.4-.92-.59-1.43-.59-.52 0-1.04.2-1.43.59L10.3 9.45l-7.72 7.72c-.78.78-.78 2.05 0 2.83L4 21.41c.39.39.9.59 1.41.59.51 0 1.02-.2 1.41-.59l7.78-7.78 2.81-2.81c.8-.78.8-2.07 0-2.86zM5.41 20L4 18.59l7.72-7.72 1.47 1.35L5.41 20z\"/>\n",
              "  </svg>\n",
              "      </button>\n",
              "      \n",
              "  <style>\n",
              "    .colab-df-container {\n",
              "      display:flex;\n",
              "      flex-wrap:wrap;\n",
              "      gap: 12px;\n",
              "    }\n",
              "\n",
              "    .colab-df-convert {\n",
              "      background-color: #E8F0FE;\n",
              "      border: none;\n",
              "      border-radius: 50%;\n",
              "      cursor: pointer;\n",
              "      display: none;\n",
              "      fill: #1967D2;\n",
              "      height: 32px;\n",
              "      padding: 0 0 0 0;\n",
              "      width: 32px;\n",
              "    }\n",
              "\n",
              "    .colab-df-convert:hover {\n",
              "      background-color: #E2EBFA;\n",
              "      box-shadow: 0px 1px 2px rgba(60, 64, 67, 0.3), 0px 1px 3px 1px rgba(60, 64, 67, 0.15);\n",
              "      fill: #174EA6;\n",
              "    }\n",
              "\n",
              "    [theme=dark] .colab-df-convert {\n",
              "      background-color: #3B4455;\n",
              "      fill: #D2E3FC;\n",
              "    }\n",
              "\n",
              "    [theme=dark] .colab-df-convert:hover {\n",
              "      background-color: #434B5C;\n",
              "      box-shadow: 0px 1px 3px 1px rgba(0, 0, 0, 0.15);\n",
              "      filter: drop-shadow(0px 1px 2px rgba(0, 0, 0, 0.3));\n",
              "      fill: #FFFFFF;\n",
              "    }\n",
              "  </style>\n",
              "\n",
              "      <script>\n",
              "        const buttonEl =\n",
              "          document.querySelector('#df-702e7f76-769f-4650-84e1-0e7d5d45583e button.colab-df-convert');\n",
              "        buttonEl.style.display =\n",
              "          google.colab.kernel.accessAllowed ? 'block' : 'none';\n",
              "\n",
              "        async function convertToInteractive(key) {\n",
              "          const element = document.querySelector('#df-702e7f76-769f-4650-84e1-0e7d5d45583e');\n",
              "          const dataTable =\n",
              "            await google.colab.kernel.invokeFunction('convertToInteractive',\n",
              "                                                     [key], {});\n",
              "          if (!dataTable) return;\n",
              "\n",
              "          const docLinkHtml = 'Like what you see? Visit the ' +\n",
              "            '<a target=\"_blank\" href=https://colab.research.google.com/notebooks/data_table.ipynb>data table notebook</a>'\n",
              "            + ' to learn more about interactive tables.';\n",
              "          element.innerHTML = '';\n",
              "          dataTable['output_type'] = 'display_data';\n",
              "          await google.colab.output.renderOutput(dataTable, element);\n",
              "          const docLink = document.createElement('div');\n",
              "          docLink.innerHTML = docLinkHtml;\n",
              "          element.appendChild(docLink);\n",
              "        }\n",
              "      </script>\n",
              "    </div>\n",
              "  </div>\n",
              "  "
            ]
          },
          "metadata": {},
          "execution_count": 47
        }
      ],
      "source": [
        "df = df_filling.copy(deep = True)\n",
        "missing_df = df.isnull().sum(axis=0).reset_index()\n",
        "missing_df.columns = ['column_name', 'missing_count']\n",
        "missing_df['filling_factor'] = (df.shape[0] \n",
        "                                - missing_df['missing_count']) / df.shape[0] * 100\n",
        "missing_df = missing_df.sort_values('filling_factor').reset_index(drop = True)\n",
        "missing_df"
      ]
    },
    {
      "cell_type": "code",
      "execution_count": 50,
      "metadata": {
        "id": "IL6E_0R_og61"
      },
      "outputs": [],
      "source": [
        "df = df_filling.copy(deep=True)\n",
        "df.reset_index(inplace = True, drop = True)\n",
        "df.to_csv('clean_data.csv')"
      ]
    }
  ],
  "metadata": {
    "colab": {
      "collapsed_sections": [],
      "name": "Data-Cleaning.ipynb",
      "provenance": [],
      "include_colab_link": true
    },
    "kernelspec": {
      "display_name": "Python 3",
      "name": "python3"
    },
    "language_info": {
      "name": "python"
    }
  },
  "nbformat": 4,
  "nbformat_minor": 0
}