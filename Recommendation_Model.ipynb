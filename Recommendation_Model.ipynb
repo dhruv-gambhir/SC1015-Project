{
  "cells": [
    {
      "cell_type": "code",
      "execution_count": 3,
      "metadata": {
        "colab": {
          "base_uri": "https://localhost:8080/"
        },
        "outputId": "5b07efa2-3e5a-4954-8b3e-390482939193",
        "id": "nnrCk2lXog6u"
      },
      "outputs": [
        {
          "output_type": "stream",
          "name": "stdout",
          "text": [
            "Mounted at /content/drive\n"
          ]
        }
      ],
      "source": [
        "from google.colab import drive\n",
        "drive.mount('/content/drive')"
      ]
    },
    {
      "cell_type": "code",
      "execution_count": null,
      "metadata": {
        "id": "jb4TCAPUog6u"
      },
      "outputs": [],
      "source": [
        "%matplotlib inline\n",
        "import pandas as pd\n",
        "import json\n",
        "import seaborn as sns\n",
        "import matplotlib.pyplot as plt\n",
        "import numpy as np\n",
        "import matplotlib as mpl\n",
        "import math, nltk, warnings\n",
        "from scipy import stats\n",
        "from ast import literal_eval\n",
        "from sklearn.feature_extraction.text import TfidfVectorizer, CountVectorizer\n",
        "from sklearn.metrics.pairwise import linear_kernel, cosine_similarity\n",
        "from nltk.stem.wordnet import WordNetLemmatizer\n",
        "from nltk.stem.snowball import SnowballStemmer\n",
        "from nltk.corpus import wordnet\n",
        "import warnings; warnings.simplefilter('ignore')"
      ]
    },
    {
      "cell_type": "code",
      "execution_count": null,
      "metadata": {
        "id": "e7j4ofTkog6u"
      },
      "outputs": [],
      "source": [
        "import matplotlib as fig"
      ]
    },
    {
      "cell_type": "code",
      "execution_count": null,
      "metadata": {
        "colab": {
          "base_uri": "https://localhost:8080/"
        },
        "outputId": "d6041003-7bf2-443a-9966-e48c09756996",
        "id": "sW9m4Mk9og6v"
      },
      "outputs": [
        {
          "output_type": "stream",
          "name": "stdout",
          "text": [
            "Requirement already satisfied: fuzzywuzzy in /usr/local/lib/python3.7/dist-packages (0.18.0)\n"
          ]
        }
      ],
      "source": [
        "pip install fuzzywuzzy\n"
      ]
    },
    {
      "cell_type": "code",
      "execution_count": 2,
      "metadata": {
        "id": "LTKmc4g5og6v"
      },
      "outputs": [],
      "source": [
        "import pandas as pd\n",
        "import numpy as np\n",
        "import matplotlib as mpl\n",
        "import matplotlib.pyplot as plt\n",
        "import seaborn as sns\n",
        "import math, nltk, warnings\n",
        "from nltk.corpus import wordnet\n",
        "from sklearn import linear_model\n",
        "from sklearn.neighbors import NearestNeighbors\n",
        "from wordcloud import WordCloud, STOPWORDS\n",
        "plt.rcParams[\"patch.force_edgecolor\"] = True\n",
        "plt.style.use('fivethirtyeight')\n",
        "mpl.rc('patch', edgecolor = 'dimgray', linewidth=1)\n",
        "from IPython.core.interactiveshell import InteractiveShell\n",
        "InteractiveShell.ast_node_interactivity = \"last_expr\"\n",
        "pd.options.display.max_columns = 50\n",
        "%matplotlib inline\n",
        "warnings.filterwarnings('ignore')\n",
        "PS = nltk.stem.PorterStemmer()\n",
        "\n"
      ]
    },
    {
      "cell_type": "markdown",
      "metadata": {
        "id": "qOI3Eub2og61"
      },
      "source": [
        "# Recommendation Model\n"
      ]
    },
    {
      "cell_type": "code",
      "source": [
        "df = pd.read_csv(\"/content/drive/MyDrive/clean_data.csv\")"
      ],
      "metadata": {
        "id": "Sq1tCc2R8kA3"
      },
      "execution_count": 5,
      "outputs": []
    },
    {
      "cell_type": "code",
      "execution_count": null,
      "metadata": {
        "id": "ETvMeWilog61"
      },
      "outputs": [],
      "source": [
        "gs_filter = lambda x,y,sum: math.exp(-(x-y)**2/(2*sum**2))"
      ]
    },
    {
      "cell_type": "code",
      "execution_count": null,
      "metadata": {
        "id": "7FvnUPa3og61"
      },
      "outputs": [],
      "source": [
        "def variables_at_entry(df, identification):\n",
        "  columns = []\n",
        "  if pd.notnull(df['director_name'].iloc[identification]):\n",
        "    for i in df['director_name'].iloc[identification].split('|'):\n",
        "      columns.append(i)\n",
        "\n",
        "\n",
        "  \n",
        "    if pd.notnull(df['actor_1_name'].iloc[identification]):\n",
        "            for s in df['actor_1_name'].iloc[identification].split('|'):\n",
        "                columns.append(s)\n",
        "    if pd.notnull(df['actor_2_name'].iloc[identification]):\n",
        "            for s in df['actor_2_name'].iloc[identification].split('|'):\n",
        "                columns.append(s)         \n",
        "    if pd.notnull(df['actor_3_name'].iloc[identification]):\n",
        "            for s in df['actor_3_name'].iloc[identification].split('|'):\n",
        "                columns.append(s)\n",
        "    \n",
        "\n",
        "  if pd.notnull(df['keywords'].iloc[identification]):\n",
        "    for i in df['keywords'].iloc[identification].split('|'):\n",
        "      columns.append(i)\n",
        "\n",
        "  return columns"
      ]
    },
    {
      "cell_type": "code",
      "execution_count": null,
      "metadata": {
        "id": "mrgGJ_Wkog61"
      },
      "outputs": [],
      "source": [
        "def variables_adding(df, reference):\n",
        "  for i in reference: df[i] = pd.Series([0 for _ in range(len(df))])\n",
        "  cols = ['genres','actor_1_name', 'actor_2_name', 'actor_3_name', 'director_name', 'keywords']\n",
        "\n",
        "  for group in cols:\n",
        "    for position, row in df.iterrows():\n",
        "      if pd.isnull(row[group]):\n",
        "        continue\n",
        "      for i in row[group].split('|'):\n",
        "        if i in reference:\n",
        "          df.at[position, i] = 1\n",
        "\n",
        "  return df"
      ]
    },
    {
      "cell_type": "code",
      "execution_count": null,
      "metadata": {
        "id": "c4_RkzmBog61"
      },
      "outputs": [],
      "source": [
        "def suggestion(df, identification):\n",
        "  df_new = df.copy(deep = True)\n",
        "  genres = set()\n",
        "  for i in df['genres'].str.split('|').values:\n",
        "    genres = genres.union(set(i))\n",
        "\n",
        "  #Similarity check\n",
        "  identifiers = variables_at_entry(df_new, identification)\n",
        "  identifiers += list(genres)\n",
        "  new_dataframe = variables_adding(df_new, identifiers)\n",
        "\n",
        "  #Closest neighbours\n",
        "  y = new_dataframe.values\n",
        "  neighbours = NearestNeighbors(n_neighbors = 31, algorithm = 'auto', metric = 'euclidean').fit(y)\n",
        "\n",
        "  dis, pos = neighbours.kneighbors(y)\n",
        "  ytest = new_dataframe.iloc[identification].values\n",
        "  ytest = ytest.reshape(1, -1)\n",
        "\n",
        "  dis, pos = neighbours.kneighbors(ytest)\n",
        "\n",
        "  return pos[0][:]"
      ]
    },
    {
      "cell_type": "code",
      "execution_count": null,
      "metadata": {
        "id": "Owd4lA2Uog61"
      },
      "outputs": [],
      "source": [
        "\n",
        "def extraction(df, movies_list):\n",
        "  movies = ['_' for _ in range(31)]\n",
        "  j = 0\n",
        "  maximum_users = -1\n",
        "  for pos in movies_list:\n",
        "    movies[j] = list(df.iloc[pos][['movie_title', 'title_year', 'imdb_score', 'num_user_for_reviews', 'num_voted_users']])\n",
        "    movies[j].append(pos)\n",
        "    if maximum_users > movies[j][4] :\n",
        "      maximum_users = maximum_users\n",
        "    else :\n",
        "      maximum_users = movies[j][4]    \n",
        "    j+=1\n",
        "\n",
        "  headline = movies[0][0]\n",
        "  ref = movies[0][1]\n",
        "  movies.sort(key = lambda a:selection(headline, maximum_users, ref, a[0], a[1], a[2], a[4]), reverse = True)\n",
        "\n",
        "  return movies\n"
      ]
    },
    {
      "cell_type": "code",
      "source": [
        "def second_part(title_1, title_2):\n",
        "  if fuzz.ratio(title_1, title_2) > 50 or fuzz.token_set_ratio(title_1, title_2) > 50:\n",
        "    return True\n",
        "  else:\n",
        "    return False\n"
      ],
      "metadata": {
        "id": "ddx4VUu2og61"
      },
      "execution_count": null,
      "outputs": []
    },
    {
      "cell_type": "code",
      "source": [
        "def selection(main_title, maximum_users, ref, title, annee, imdb, votes):\n",
        "  if pd.notnull(ref):\n",
        "    factor_1 = gs_filter(ref, annee, 20)\n",
        "  else:\n",
        "    facotr_1 = 1\n",
        "\n",
        "  sum = maximum_users*1.0\n",
        "\n",
        "  if pd.notnull(votes):\n",
        "    factor_2 = gs_filter(votes, maximum_users, sum)\n",
        "  else:\n",
        "    factor_2 = 0\n",
        "\n",
        "  if second_part(main_title, title):\n",
        "    record = 0\n",
        "  else:\n",
        "    record = imdb**2 * factor_1 * factor_2\n",
        "\n",
        "  return record"
      ],
      "metadata": {
        "id": "9T-rSJwvog61"
      },
      "execution_count": null,
      "outputs": []
    },
    {
      "cell_type": "code",
      "source": [
        "def adding_to_selection(selection, movie_parameters):\n",
        "  movies = selection[:]\n",
        "  counting = len(movies)\n",
        "  \n",
        "  for j in range(31):\n",
        "    present_in_list = False\n",
        "    for i in selection:\n",
        "      if i[0] == movie_parameters[i][0]:\n",
        "        present_in_list = True\n",
        "      if second_part(movie_parameters[j][0], i[0]):\n",
        "        present_in_list = True\n",
        "    if present_in_list == True:\n",
        "      continue\n",
        "    counting += 1\n",
        "    if counting <= 5:\n",
        "      film_list.append(movie_parameters[j])\n",
        "    \n",
        "  return movies"
      ],
      "metadata": {
        "id": "iC_771OBog61"
      },
      "execution_count": null,
      "outputs": []
    },
    {
      "cell_type": "code",
      "source": [
        "def remove_second_parts(selecting_films):\n",
        "  removed = []\n",
        "  for s, movie_1 in enumerate(selecting_films):\n",
        "    for t, movie_2 in enumerate(selecting_films):\n",
        "      if t <= s:\n",
        "        continue\n",
        "      if second_part(movie_1[0], movie_2[0]):\n",
        "        film = movie_2[0] if movie_1[1] < movie_2[1] else movie_1[0]\n",
        "        removed.append(film)\n",
        "\n",
        "  movies = [movie for movie in selecting_films if movie[0] not in removed]\n",
        "\n",
        "  return movies"
      ],
      "metadata": {
        "id": "gy7R2TUXog62"
      },
      "execution_count": null,
      "outputs": []
    },
    {
      "cell_type": "code",
      "source": [
        "def likeness(df, identification, sequels_del = True, ver = False):\n",
        "  if ver:\n",
        "    print(90*'_' + '\\n' + \"Query: films similar to id = {} -> '{}'\".format(identification, df.iloc[identification]['title']))\n",
        "  \n",
        "  movies = suggestion(df, identification)\n",
        "\n",
        "  movie_parameters = extraction(df, movies) #List of films\n",
        "\n",
        "  select_movie = []\n",
        "  select_movie = adding_to_selection(select_movie, movie_parameters)\n",
        "\n",
        "  if sequels_del:\n",
        "    select_movie = remove_second_parts(select_movie)\n",
        "\n",
        "  select_movie = adding_to_selection(select_movie, movie_parameters)\n",
        "\n",
        "  title_selection = []\n",
        "  for p, q in enumerate(select_movie):\n",
        "    select_movie.append(q[0].replace(u'\\xa0', u''), q[5])\n",
        "    if ver:\n",
        "      print(\"nº{:<2}     -> {:<30}\".format(p+1, q[0]))\n",
        "\n",
        "  return title_selection"
      ],
      "metadata": {
        "id": "vI22v-3fog62"
      },
      "execution_count": null,
      "outputs": []
    },
    {
      "cell_type": "code",
      "source": [
        "choose = dict()\n",
        "for s in range(0, 10, 3):\n",
        "    choose[s] = likeness(df, s, sequels_del = True, ver = True)"
      ],
      "metadata": {
        "id": "5wqPLNe1og62",
        "colab": {
          "base_uri": "https://localhost:8080/"
        },
        "outputId": "d0154dab-d63d-4731-99a6-e82dfe0cdda2"
      },
      "execution_count": null,
      "outputs": [
        {
          "output_type": "stream",
          "name": "stdout",
          "text": [
            "QUERY: films similar to id=0 -> 'Avatar'\n",
            "nº1      -> Avatar                      \n",
            "nº2      -> Star Trek Into Darkness       \n",
            "nº3      -> Jupiter Ascending             \n",
            "nº4      -> The Fifth Element             \n",
            "nº5      -> Pirates of the Caribbean: On Stranger Tides\n",
            "__________________________________________________________________________________________\n",
            "QUERY: films similar to id=3 -> 'The Dark Knight Rises'\n",
            "nº1      -> The Dark Knight               \n",
            "nº2      -> Batman & Robin                \n",
            "nº3      -> Kick-Ass                      \n",
            "nº4      -> Hitman                        \n",
            "nº5      -> Running Scared                \n",
            "__________________________________________________________________________________________\n",
            "QUERY: films similar to id=6 -> 'Tangled'\n",
            "nº1      -> Tangled                       \n",
            "nº2      -> The Princess and the Frog     \n",
            "nº3      -> Ponyo                         \n",
            "nº4      -> Toy Story 3                   \n",
            "nº5      -> Pinocchio                     \n",
            "__________________________________________________________________________________________\n",
            "QUERY: films similar to id=9 -> 'Batman v Superman: Dawn of Justice'\n",
            "nº1      -> Man of Steel                  \n",
            "nº2      -> Superman                      \n",
            "nº3      -> Batman Returns                \n",
            "nº4      -> Thor                          \n",
            "nº5      -> Thor: The Dark World          \n",
            "__________________________________________________________________________________________\n",
            "QUERY: films similar to id=12 -> 'Pirates of the Caribbean: Dead Man's Chest'\n",
            "nº1      -> Pirates of the Caribbean: The Curse of the Black Pearl\n",
            "nº2      -> Cutthroat Island              \n",
            "nº3      -> The Hobbit: An Unexpected Journey\n",
            "nº4      -> The 13th Warrior              \n",
            "nº5      -> Red Sonja                     \n",
            "__________________________________________________________________________________________\n",
            "QUERY: films similar to id=15 -> 'The Chronicles of Narnia: Prince Caspian'\n",
            "nº1      -> Alice in Wonderland           \n",
            "nº2      -> The Wizard of Oz              \n",
            "nº3      -> The NeverEnding Story         \n",
            "nº4      -> Eragon                        \n",
            "nº5      -> Pan                           \n",
            "__________________________________________________________________________________________\n",
            "QUERY: films similar to id=18 -> 'Men in Black 3'\n",
            "nº1      -> Attack the Block              \n",
            "nº2      -> Men in Black                  \n",
            "nº3      -> Galaxina                      \n",
            "nº4      -> The Stepford Wives            \n",
            "nº5      -> Death Race 2000       \n"
          ]
        }
      ]
    },
    {
      "cell_type": "code",
      "source": [
        ""
      ],
      "metadata": {
        "id": "iSWbpuNx3uVj"
      },
      "execution_count": null,
      "outputs": []
    }
  ],
  "metadata": {
    "colab": {
      "collapsed_sections": [],
      "name": "Recommendation-Model.ipynb",
      "provenance": []
    },
    "kernelspec": {
      "display_name": "Python 3",
      "name": "python3"
    },
    "language_info": {
      "name": "python"
    }
  },
  "nbformat": 4,
  "nbformat_minor": 0
}